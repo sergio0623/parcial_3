{
  "nbformat": 4,
  "nbformat_minor": 0,
  "metadata": {
    "colab": {
      "name": "Untitled25.ipynb",
      "provenance": [],
      "authorship_tag": "ABX9TyPqrKZldNmMmczvn5PzQQFM",
      "include_colab_link": true
    },
    "kernelspec": {
      "name": "python3",
      "display_name": "Python 3"
    },
    "language_info": {
      "name": "python"
    }
  },
  "cells": [
    {
      "cell_type": "markdown",
      "metadata": {
        "id": "view-in-github",
        "colab_type": "text"
      },
      "source": [
        "<a href=\"https://colab.research.google.com/github/sergio0623/parcial_3/blob/main/Ejercicio_de_herencia.ipynb\" target=\"_parent\"><img src=\"https://colab.research.google.com/assets/colab-badge.svg\" alt=\"Open In Colab\"/></a>"
      ]
    },
    {
      "cell_type": "code",
      "execution_count": null,
      "metadata": {
        "id": "5dUNYIdeG0od"
      },
      "outputs": [],
      "source": [
        "from datetime import date\n",
        "\n",
        "class Persona():\n",
        "    nombre:str\n",
        "    nif:str\n",
        "    fechaNac:date\n",
        "\n",
        "\n",
        "class jugador(Persona):\n",
        "    numFed:int\n",
        "\n",
        "    def __init__(self,persona:Persona):\n",
        "      self.Person=persona"
      ]
    }
  ]
}